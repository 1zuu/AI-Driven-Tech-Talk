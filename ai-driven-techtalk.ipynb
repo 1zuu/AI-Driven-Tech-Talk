{
 "cells": [
  {
   "cell_type": "code",
   "execution_count": 1,
   "id": "60185087",
   "metadata": {
    "_cell_guid": "b1076dfc-b9ad-4769-8c92-a6c4dae69d19",
    "_uuid": "8f2839f25d086af736a60e9eeb907d3b93b6e0e5",
    "execution": {
     "iopub.execute_input": "2022-01-23T13:46:07.805241Z",
     "iopub.status.busy": "2022-01-23T13:46:07.803202Z",
     "iopub.status.idle": "2022-01-23T13:46:14.767217Z",
     "shell.execute_reply": "2022-01-23T13:46:14.766600Z",
     "shell.execute_reply.started": "2022-01-23T13:40:32.142949Z"
    },
    "papermill": {
     "duration": 6.976624,
     "end_time": "2022-01-23T13:46:14.767444",
     "exception": false,
     "start_time": "2022-01-23T13:46:07.790820",
     "status": "completed"
    },
    "tags": []
   },
   "outputs": [],
   "source": [
    "import os, re\n",
    "import numpy as np \n",
    "import pandas as pd\n",
    "import matplotlib.pyplot as plt\n",
    "\n",
    "from sklearn.utils import shuffle\n",
    "from sklearn.model_selection import train_test_split\n",
    "from sklearn.utils.class_weight import compute_class_weight\n",
    "\n",
    "from nltk.corpus import stopwords\n",
    "from nltk.stem import WordNetLemmatizer\n",
    "from nltk.tokenize import RegexpTokenizer\n",
    "\n",
    "import tensorflow as tf\n",
    "from tensorflow.keras.optimizers import Adam\n",
    "from tensorflow.keras.activations import relu\n",
    "from tensorflow.keras.models import Model, load_model\n",
    "from tensorflow.keras.preprocessing.text import Tokenizer\n",
    "from tensorflow.keras.preprocessing.sequence import pad_sequences\n",
    "from tensorflow.keras.layers import Input, Embedding, LSTM, GRU, Dense, Bidirectional, Dropout, BatchNormalization"
   ]
  },
  {
   "cell_type": "markdown",
   "id": "515b2769",
   "metadata": {
    "papermill": {
     "duration": 0.005833,
     "end_time": "2022-01-23T13:46:14.779954",
     "exception": false,
     "start_time": "2022-01-23T13:46:14.774121",
     "status": "completed"
    },
    "tags": []
   },
   "source": [
    "# **Analyze the Dataset**"
   ]
  },
  {
   "cell_type": "code",
   "execution_count": 2,
   "id": "4cc97214",
   "metadata": {
    "execution": {
     "iopub.execute_input": "2022-01-23T13:46:14.796830Z",
     "iopub.status.busy": "2022-01-23T13:46:14.796182Z",
     "iopub.status.idle": "2022-01-23T13:46:15.421312Z",
     "shell.execute_reply": "2022-01-23T13:46:15.421832Z",
     "shell.execute_reply.started": "2022-01-23T13:43:00.328319Z"
    },
    "papermill": {
     "duration": 0.636536,
     "end_time": "2022-01-23T13:46:15.422061",
     "exception": false,
     "start_time": "2022-01-23T13:46:14.785525",
     "status": "completed"
    },
    "tags": []
   },
   "outputs": [
    {
     "data": {
      "text/html": [
       "<div>\n",
       "<style scoped>\n",
       "    .dataframe tbody tr th:only-of-type {\n",
       "        vertical-align: middle;\n",
       "    }\n",
       "\n",
       "    .dataframe tbody tr th {\n",
       "        vertical-align: top;\n",
       "    }\n",
       "\n",
       "    .dataframe thead th {\n",
       "        text-align: right;\n",
       "    }\n",
       "</style>\n",
       "<table border=\"1\" class=\"dataframe\">\n",
       "  <thead>\n",
       "    <tr style=\"text-align: right;\">\n",
       "      <th></th>\n",
       "      <th>Review Text</th>\n",
       "      <th>Recommended IND</th>\n",
       "    </tr>\n",
       "  </thead>\n",
       "  <tbody>\n",
       "    <tr>\n",
       "      <th>0</th>\n",
       "      <td>Absolutely wonderful - silky and sexy and comf...</td>\n",
       "      <td>1</td>\n",
       "    </tr>\n",
       "    <tr>\n",
       "      <th>1</th>\n",
       "      <td>Love this dress!  it's sooo pretty.  i happene...</td>\n",
       "      <td>1</td>\n",
       "    </tr>\n",
       "    <tr>\n",
       "      <th>2</th>\n",
       "      <td>I had such high hopes for this dress and reall...</td>\n",
       "      <td>0</td>\n",
       "    </tr>\n",
       "    <tr>\n",
       "      <th>3</th>\n",
       "      <td>I love, love, love this jumpsuit. it's fun, fl...</td>\n",
       "      <td>1</td>\n",
       "    </tr>\n",
       "    <tr>\n",
       "      <th>4</th>\n",
       "      <td>This shirt is very flattering to all due to th...</td>\n",
       "      <td>1</td>\n",
       "    </tr>\n",
       "    <tr>\n",
       "      <th>...</th>\n",
       "      <td>...</td>\n",
       "      <td>...</td>\n",
       "    </tr>\n",
       "    <tr>\n",
       "      <th>23481</th>\n",
       "      <td>I was very happy to snag this dress at such a ...</td>\n",
       "      <td>1</td>\n",
       "    </tr>\n",
       "    <tr>\n",
       "      <th>23482</th>\n",
       "      <td>It reminds me of maternity clothes. soft, stre...</td>\n",
       "      <td>1</td>\n",
       "    </tr>\n",
       "    <tr>\n",
       "      <th>23483</th>\n",
       "      <td>This fit well, but the top was very see throug...</td>\n",
       "      <td>0</td>\n",
       "    </tr>\n",
       "    <tr>\n",
       "      <th>23484</th>\n",
       "      <td>I bought this dress for a wedding i have this ...</td>\n",
       "      <td>1</td>\n",
       "    </tr>\n",
       "    <tr>\n",
       "      <th>23485</th>\n",
       "      <td>This dress in a lovely platinum is feminine an...</td>\n",
       "      <td>1</td>\n",
       "    </tr>\n",
       "  </tbody>\n",
       "</table>\n",
       "<p>23486 rows × 2 columns</p>\n",
       "</div>"
      ],
      "text/plain": [
       "                                             Review Text  Recommended IND\n",
       "0      Absolutely wonderful - silky and sexy and comf...                1\n",
       "1      Love this dress!  it's sooo pretty.  i happene...                1\n",
       "2      I had such high hopes for this dress and reall...                0\n",
       "3      I love, love, love this jumpsuit. it's fun, fl...                1\n",
       "4      This shirt is very flattering to all due to th...                1\n",
       "...                                                  ...              ...\n",
       "23481  I was very happy to snag this dress at such a ...                1\n",
       "23482  It reminds me of maternity clothes. soft, stre...                1\n",
       "23483  This fit well, but the top was very see throug...                0\n",
       "23484  I bought this dress for a wedding i have this ...                1\n",
       "23485  This dress in a lovely platinum is feminine an...                1\n",
       "\n",
       "[23486 rows x 2 columns]"
      ]
     },
     "execution_count": 2,
     "metadata": {},
     "output_type": "execute_result"
    }
   ],
   "source": [
    "data_path = '../input/womens-ecommerce-clothing-reviews/Womens Clothing E-Commerce Reviews.csv'\n",
    "df = pd.read_csv(data_path)\n",
    "df = df[['Review Text', 'Recommended IND']]\n",
    "df"
   ]
  },
  {
   "cell_type": "code",
   "execution_count": 3,
   "id": "f4b2b332",
   "metadata": {
    "execution": {
     "iopub.execute_input": "2022-01-23T13:46:15.439550Z",
     "iopub.status.busy": "2022-01-23T13:46:15.438537Z",
     "iopub.status.idle": "2022-01-23T13:46:15.450752Z",
     "shell.execute_reply": "2022-01-23T13:46:15.450232Z",
     "shell.execute_reply.started": "2022-01-23T13:43:09.205636Z"
    },
    "papermill": {
     "duration": 0.021851,
     "end_time": "2022-01-23T13:46:15.450881",
     "exception": false,
     "start_time": "2022-01-23T13:46:15.429030",
     "status": "completed"
    },
    "tags": []
   },
   "outputs": [
    {
     "data": {
      "text/plain": [
       "Review Text        22641\n",
       "Recommended IND    23486\n",
       "dtype: int64"
      ]
     },
     "execution_count": 3,
     "metadata": {},
     "output_type": "execute_result"
    }
   ],
   "source": [
    "df.count()"
   ]
  },
  {
   "cell_type": "code",
   "execution_count": 4,
   "id": "d7fae774",
   "metadata": {
    "execution": {
     "iopub.execute_input": "2022-01-23T13:46:15.472365Z",
     "iopub.status.busy": "2022-01-23T13:46:15.471328Z",
     "iopub.status.idle": "2022-01-23T13:46:15.483828Z",
     "shell.execute_reply": "2022-01-23T13:46:15.484393Z",
     "shell.execute_reply.started": "2022-01-23T13:44:27.981044Z"
    },
    "papermill": {
     "duration": 0.027065,
     "end_time": "2022-01-23T13:46:15.484601",
     "exception": false,
     "start_time": "2022-01-23T13:46:15.457536",
     "status": "completed"
    },
    "tags": []
   },
   "outputs": [
    {
     "data": {
      "text/plain": [
       "Review Text        22641\n",
       "Recommended IND    22641\n",
       "dtype: int64"
      ]
     },
     "execution_count": 4,
     "metadata": {},
     "output_type": "execute_result"
    }
   ],
   "source": [
    "df = df.dropna()\n",
    "df.count()"
   ]
  },
  {
   "cell_type": "code",
   "execution_count": null,
   "id": "71821b2d",
   "metadata": {
    "papermill": {
     "duration": 0.006856,
     "end_time": "2022-01-23T13:46:15.498676",
     "exception": false,
     "start_time": "2022-01-23T13:46:15.491820",
     "status": "completed"
    },
    "tags": []
   },
   "outputs": [],
   "source": []
  }
 ],
 "metadata": {
  "kernelspec": {
   "display_name": "Python 3",
   "language": "python",
   "name": "python3"
  },
  "language_info": {
   "codemirror_mode": {
    "name": "ipython",
    "version": 3
   },
   "file_extension": ".py",
   "mimetype": "text/x-python",
   "name": "python",
   "nbconvert_exporter": "python",
   "pygments_lexer": "ipython3",
   "version": "3.7.12"
  },
  "papermill": {
   "default_parameters": {},
   "duration": 20.832923,
   "end_time": "2022-01-23T13:46:18.837619",
   "environment_variables": {},
   "exception": null,
   "input_path": "__notebook__.ipynb",
   "output_path": "__notebook__.ipynb",
   "parameters": {},
   "start_time": "2022-01-23T13:45:58.004696",
   "version": "2.3.3"
  }
 },
 "nbformat": 4,
 "nbformat_minor": 5
}
